{
 "cells": [
  {
   "cell_type": "markdown",
   "id": "52a3e79f-1e0c-45d6-bbdd-45447386d2b6",
   "metadata": {},
   "source": [
    "# Virtual Internship Program (VIP) by AINE AI"
   ]
  },
  {
   "cell_type": "markdown",
   "id": "b3581b27-ecb2-47ca-9421-98442e7240f7",
   "metadata": {},
   "source": [
    "# Project 5: Essentials of Python Programming"
   ]
  },
  {
   "cell_type": "markdown",
   "id": "7d63193b-9f32-41d6-8155-4c798c34674a",
   "metadata": {},
   "source": [
    "## Developing ‘Rock, Paper and Scissors’ game using Python programming"
   ]
  },
  {
   "cell_type": "markdown",
   "id": "23edc2c9-8355-4931-876b-5ac34918e87b",
   "metadata": {},
   "source": [
    "### By: Sourav Sarkar"
   ]
  },
  {
   "cell_type": "code",
   "execution_count": 1,
   "id": "68870c6f-cbd0-49e0-8360-3e69120498e3",
   "metadata": {},
   "outputs": [],
   "source": [
    "import random\n",
    "\n",
    "# Initialising possible options\n",
    "dict = {1:\"rock\", 2:\"paper\", 3:\"scissor\"}\n",
    "randList = [1, 2, 3]"
   ]
  },
  {
   "cell_type": "code",
   "execution_count": 2,
   "id": "43bffe6d-d2b6-414f-884a-3b3a7bf5ffda",
   "metadata": {},
   "outputs": [],
   "source": [
    "# Function for player to choose valid choice\n",
    "def choice():\n",
    "    x = int(input())\n",
    "    if x in randList:\n",
    "        return x\n",
    "    else:\n",
    "        print(\"Invalid option. Choose again.\")\n",
    "        return choice()"
   ]
  },
  {
   "cell_type": "code",
   "execution_count": 3,
   "id": "9cf8e96c-2928-4968-b0e2-2e77467f5c79",
   "metadata": {},
   "outputs": [],
   "source": [
    "# Function for comparing player's and computer's choice\n",
    "def check(player, comp):\n",
    "    print(\"Player's choice:\",player)\n",
    "    print(\"Computer's choice:\",comp)\n",
    "    if player == comp:\n",
    "        print(f\"Both player selected {player}. It's a tie.\")\n",
    "        return None\n",
    "    \n",
    "    elif player == 'rock':\n",
    "        if comp == 'scissor':\n",
    "            print(\"Rock smashes Scissor. Player wins\")\n",
    "            return \"Player\"\n",
    "        else:\n",
    "            print(\"Paper covers Rock. Computer wins\")\n",
    "            return \"Computer\"\n",
    "\n",
    "    elif player == 'paper':\n",
    "        if comp == 'rock':\n",
    "            print(\"Paper covers Rock. Player wins\")\n",
    "            return \"Player\"\n",
    "        else:\n",
    "            print(\"Scissor cuts Paper. Computer wins\")\n",
    "            return \"Computer\"\n",
    "\n",
    "    elif player == 'scissor':\n",
    "        if comp == 'paper':\n",
    "            print(\"Scissor cuts Paper. Player wins\")\n",
    "            return \"Player\"\n",
    "        else:\n",
    "            print(\"Rock smashes Scissor. Computer wins\")\n",
    "            return \"Computer\""
   ]
  },
  {
   "cell_type": "code",
   "execution_count": 5,
   "id": "d91e5a20-a644-487b-837f-e756b64c5614",
   "metadata": {},
   "outputs": [],
   "source": [
    "# Main function\n",
    "def main():\n",
    "    \n",
    "    points = {\"Player\":0, \"Computer\":0} # point table\n",
    "\n",
    "    print(\"How many rounds?\", end=\"\\n\")\n",
    "    t = int(input())\n",
    "    while(t>0):\n",
    "        print(\"1. Rock\\n2. Paper\\n3. Scissor\\nPick one:\", end=\" \")\n",
    "        \n",
    "        playerChoice = choice()\n",
    "        \n",
    "        compChoice = random.choice(randList)\n",
    "        \n",
    "        result = check(dict[playerChoice], dict[compChoice])\n",
    "\n",
    "        if result is not None:\n",
    "            points[result]+=1\n",
    "\n",
    "        t-=1\n",
    "        \n",
    "    print(\"Points Table:\")\n",
    "    print(points)\n",
    "\n",
    "    if points[\"Player\"]>points[\"Computer\"]:\n",
    "        print(\"Congrats! PLayer wins the game.\")\n",
    "    elif points[\"Player\"]<points[\"Computer\"]:\n",
    "        print(\"Computer wins the game. Better luck next time.\")\n",
    "    else:\n",
    "        print(\"It's a tie.\")"
   ]
  },
  {
   "cell_type": "code",
   "execution_count": 6,
   "id": "b4ed4803-d429-4fbb-a3ac-43f765ca39b4",
   "metadata": {},
   "outputs": [
    {
     "name": "stdout",
     "output_type": "stream",
     "text": [
      "How many rounds?\n"
     ]
    },
    {
     "name": "stdin",
     "output_type": "stream",
     "text": [
      " 5\n"
     ]
    },
    {
     "name": "stdout",
     "output_type": "stream",
     "text": [
      "1. Rock\n",
      "2. Paper\n",
      "3. Scissor\n",
      "Pick one: "
     ]
    },
    {
     "name": "stdin",
     "output_type": "stream",
     "text": [
      " 2\n"
     ]
    },
    {
     "name": "stdout",
     "output_type": "stream",
     "text": [
      "Player's choice: paper\n",
      "Computer's choice: rock\n",
      "Paper covers Rock. Player wins\n",
      "1. Rock\n",
      "2. Paper\n",
      "3. Scissor\n",
      "Pick one: "
     ]
    },
    {
     "name": "stdin",
     "output_type": "stream",
     "text": [
      " 3\n"
     ]
    },
    {
     "name": "stdout",
     "output_type": "stream",
     "text": [
      "Player's choice: scissor\n",
      "Computer's choice: rock\n",
      "Rock smashes Scissor. Computer wins\n",
      "1. Rock\n",
      "2. Paper\n",
      "3. Scissor\n",
      "Pick one: "
     ]
    },
    {
     "name": "stdin",
     "output_type": "stream",
     "text": [
      " 1\n"
     ]
    },
    {
     "name": "stdout",
     "output_type": "stream",
     "text": [
      "Player's choice: rock\n",
      "Computer's choice: rock\n",
      "Both player selected rock. It's a tie.\n",
      "1. Rock\n",
      "2. Paper\n",
      "3. Scissor\n",
      "Pick one: "
     ]
    },
    {
     "name": "stdin",
     "output_type": "stream",
     "text": [
      " 1\n"
     ]
    },
    {
     "name": "stdout",
     "output_type": "stream",
     "text": [
      "Player's choice: rock\n",
      "Computer's choice: rock\n",
      "Both player selected rock. It's a tie.\n",
      "1. Rock\n",
      "2. Paper\n",
      "3. Scissor\n",
      "Pick one: "
     ]
    },
    {
     "name": "stdin",
     "output_type": "stream",
     "text": [
      " 2\n"
     ]
    },
    {
     "name": "stdout",
     "output_type": "stream",
     "text": [
      "Player's choice: paper\n",
      "Computer's choice: paper\n",
      "Both player selected paper. It's a tie.\n",
      "Points Table:\n",
      "{'Player': 1, 'Computer': 1}\n",
      "It's a tie.\n"
     ]
    }
   ],
   "source": [
    "# Run the function to play the game\n",
    "if __name__ == \"__main__\":\n",
    "    main()"
   ]
  }
 ],
 "metadata": {
  "kernelspec": {
   "display_name": "Python 3",
   "language": "python",
   "name": "python3"
  },
  "language_info": {
   "codemirror_mode": {
    "name": "ipython",
    "version": 3
   },
   "file_extension": ".py",
   "mimetype": "text/x-python",
   "name": "python",
   "nbconvert_exporter": "python",
   "pygments_lexer": "ipython3",
   "version": "3.9.4"
  }
 },
 "nbformat": 4,
 "nbformat_minor": 5
}
