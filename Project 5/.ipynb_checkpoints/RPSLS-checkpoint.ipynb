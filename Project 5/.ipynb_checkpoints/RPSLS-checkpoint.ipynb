{
 "cells": [
  {
   "cell_type": "markdown",
   "id": "cc05f57f-d28c-4b61-8e48-d0e7fc58e06b",
   "metadata": {},
   "source": [
    "# Virtual Internship Program (VIP) by AINE AI"
   ]
  },
  {
   "cell_type": "markdown",
   "id": "a7e29a6b-bd80-4e66-a985-e01d471c8ece",
   "metadata": {},
   "source": [
    "# Project 5: Essentials of Python Programming"
   ]
  },
  {
   "cell_type": "markdown",
   "id": "ef5ffadd-fd04-4366-a1fb-c6591a5eed03",
   "metadata": {},
   "source": [
    "## Developing ‘Rock, Paper, Scissors, Lizard and Spock’ game using Python programming (Optional)"
   ]
  },
  {
   "cell_type": "markdown",
   "id": "93a14baa-9a28-49ff-a08b-e136f0b6f7fa",
   "metadata": {},
   "source": [
    "### By: Sourav Sarkar"
   ]
  },
  {
   "cell_type": "markdown",
   "id": "623a9949-1f5b-453f-888f-7b1c19d225a2",
   "metadata": {},
   "source": [
    "<img src=\"https://1millionmonkeystyping.files.wordpress.com/2015/08/rock-paper3.jpg\">"
   ]
  },
  {
   "cell_type": "code",
   "execution_count": 2,
   "id": "f8dbb858-8048-4de4-a863-d91c7f075e1f",
   "metadata": {},
   "outputs": [],
   "source": [
    "import random\n",
    "\n",
    "# Initialising possible options\n",
    "dict = {0:\"rock\", 1:\"spock\", 2:\"paper\", 3:\"lizard\", 4:\"scissor\"}\n",
    "randList = [0, 1, 2, 3, 4]\n",
    "\n",
    "key_list = list(dict.keys())\n",
    "value_list = list(dict.values())"
   ]
  },
  {
   "cell_type": "code",
   "execution_count": 3,
   "id": "26f9a890-3b28-484e-a77f-bd238f74b919",
   "metadata": {},
   "outputs": [],
   "source": [
    "# Function for player to choose valid choice\n",
    "def choice():\n",
    "    x = int(input())\n",
    "    if x-1 in randList:\n",
    "        return x-1\n",
    "    else:\n",
    "        print(\"Invalid option. Choose again.\")\n",
    "        return choice() - 1 "
   ]
  },
  {
   "cell_type": "code",
   "execution_count": 5,
   "id": "f6b4c860-05a7-4008-8e85-9d4c14f025ce",
   "metadata": {},
   "outputs": [],
   "source": [
    "# Function for comparing player's and computer's choice\n",
    "def check(player, comp):\n",
    "    print(\"Player's choice:\",dict[player])\n",
    "    print(\"Computer's choice:\",dict[comp])\n",
    "    if player == comp:\n",
    "        print(f\"Both player selected {dict[player]}. It's a tie.\")\n",
    "    elif (player - comp) % 5 < 3:\n",
    "        print(\"Player wins\")\n",
    "        return \"Player\"\n",
    "    else:\n",
    "        print(\"Computer wins\")\n",
    "        return \"Computer\""
   ]
  },
  {
   "cell_type": "code",
   "execution_count": 6,
   "id": "63f60e22-62fd-41a1-9495-2f238eaa5489",
   "metadata": {},
   "outputs": [],
   "source": [
    "# Main function\n",
    "def main():\n",
    "\n",
    "    points = {\"Player\":0, \"Computer\":0} # point table\n",
    "\n",
    "    print(\"How many rounds?\", end=\"\\n\")\n",
    "    t = int(input())\n",
    "    while(t>0):\n",
    "        print(\"1. Rock\\n2. Spock\\n3. Paper\\n4. Lizard\\n5. Scissor\\nPick one:\", end=\" \")\n",
    "        playerChoice = choice()\n",
    "        \n",
    "        compChoice = random.choice(randList)\n",
    "\n",
    "        result = check(playerChoice, compChoice)\n",
    "\n",
    "        if result is not None:\n",
    "            points[result]+=1\n",
    "\n",
    "        t-=1\n",
    "\n",
    "    print(\"Points Table:\")\n",
    "    print(points)\n",
    "\n",
    "    if points[\"Player\"]>points[\"Computer\"]:\n",
    "        print(\"Congrats! PLayer wins the game.\")\n",
    "    elif points[\"Player\"]<points[\"Computer\"]:\n",
    "        print(\"Computer wins the game. Better luck next time.\")\n",
    "    else:\n",
    "        print(\"It's a tie.\")"
   ]
  },
  {
   "cell_type": "code",
   "execution_count": 7,
   "id": "d7b61b49-9c2c-437e-8100-28bf4fc19612",
   "metadata": {},
   "outputs": [
    {
     "name": "stdout",
     "output_type": "stream",
     "text": [
      "How many rounds?\n"
     ]
    },
    {
     "name": "stdin",
     "output_type": "stream",
     "text": [
      " 5\n"
     ]
    },
    {
     "name": "stdout",
     "output_type": "stream",
     "text": [
      "1. Rock\n",
      "2. Spock\n",
      "3. Paper\n",
      "4. Lizard\n",
      "5. Scissor\n",
      "Pick one: "
     ]
    },
    {
     "name": "stdin",
     "output_type": "stream",
     "text": [
      " 3\n"
     ]
    },
    {
     "name": "stdout",
     "output_type": "stream",
     "text": [
      "Player's choice: paper\n",
      "Computer's choice: lizard\n",
      "Computer wins\n",
      "1. Rock\n",
      "2. Spock\n",
      "3. Paper\n",
      "4. Lizard\n",
      "5. Scissor\n",
      "Pick one: "
     ]
    },
    {
     "name": "stdin",
     "output_type": "stream",
     "text": [
      " 3\n"
     ]
    },
    {
     "name": "stdout",
     "output_type": "stream",
     "text": [
      "Player's choice: paper\n",
      "Computer's choice: scissor\n",
      "Computer wins\n",
      "1. Rock\n",
      "2. Spock\n",
      "3. Paper\n",
      "4. Lizard\n",
      "5. Scissor\n",
      "Pick one: "
     ]
    },
    {
     "name": "stdin",
     "output_type": "stream",
     "text": [
      " 2\n"
     ]
    },
    {
     "name": "stdout",
     "output_type": "stream",
     "text": [
      "Player's choice: spock\n",
      "Computer's choice: paper\n",
      "Computer wins\n",
      "1. Rock\n",
      "2. Spock\n",
      "3. Paper\n",
      "4. Lizard\n",
      "5. Scissor\n",
      "Pick one: "
     ]
    },
    {
     "name": "stdin",
     "output_type": "stream",
     "text": [
      " 4\n"
     ]
    },
    {
     "name": "stdout",
     "output_type": "stream",
     "text": [
      "Player's choice: lizard\n",
      "Computer's choice: rock\n",
      "Computer wins\n",
      "1. Rock\n",
      "2. Spock\n",
      "3. Paper\n",
      "4. Lizard\n",
      "5. Scissor\n",
      "Pick one: "
     ]
    },
    {
     "name": "stdin",
     "output_type": "stream",
     "text": [
      " 1\n"
     ]
    },
    {
     "name": "stdout",
     "output_type": "stream",
     "text": [
      "Player's choice: rock\n",
      "Computer's choice: spock\n",
      "Computer wins\n",
      "Points Table:\n",
      "{'Player': 0, 'Computer': 5}\n",
      "Computer wins the game. Better luck next time.\n"
     ]
    }
   ],
   "source": [
    "# Run the function to play the game\n",
    "if __name__ == \"__main__\":\n",
    "    main()"
   ]
  }
 ],
 "metadata": {
  "kernelspec": {
   "display_name": "Python 3",
   "language": "python",
   "name": "python3"
  },
  "language_info": {
   "codemirror_mode": {
    "name": "ipython",
    "version": 3
   },
   "file_extension": ".py",
   "mimetype": "text/x-python",
   "name": "python",
   "nbconvert_exporter": "python",
   "pygments_lexer": "ipython3",
   "version": "3.9.4"
  }
 },
 "nbformat": 4,
 "nbformat_minor": 5
}
