{
 "cells": [
  {
   "cell_type": "markdown",
   "metadata": {},
   "source": [
    "# Virtual Internship Program (VIP) by AINE AI"
   ]
  },
  {
   "cell_type": "markdown",
   "metadata": {},
   "source": [
    "## By: Sourav Sarkar"
   ]
  },
  {
   "cell_type": "markdown",
   "metadata": {
    "id": "kv-TcsXdiSZp"
   },
   "source": [
    "# Project 7: Statistical Analysis and Hypothesis Testing"
   ]
  },
  {
   "cell_type": "markdown",
   "metadata": {},
   "source": [
    "### Increasing YoY revenue from game purchases by increasing retention rate of gamers"
   ]
  },
  {
   "cell_type": "markdown",
   "metadata": {},
   "source": [
    "<b>About the project:</b> The project involves working on data related to Cookie Cats – a hugely popular puzzle game. As players progress through the levels of the game, they will occasionally encounter gates that force them to wait a non-trivial amount of time or make an in-app purchase to progress. In addition to driving in-app purchases, these gates serve the important purpose of giving players an enforced break from playing the game, hopefully resulting in the player's enjoyment of the game being increased and prolonged. But where should the gates be placed and how the placement of the gates can retain the players for more time.\n",
    "\n",
    "The project requires you to:\n",
    "1.\tPerform exploratory data analysis of the given datasets and generate their statistical summary.\n",
    "2.\tPerform A/B testing between the two groups of data to analyze the impact on player retention if the first gate in Cookie Cats is moved from level 30 to level 40.\n"
   ]
  },
  {
   "cell_type": "markdown",
   "metadata": {},
   "source": [
    "<b>Aim:</b> Even though the overall subscription for the game is growing, the revenue from in-game purchases has been declining and many players are uninstalling the game after playing for a few days. What recommendations can you suggest increasing the in-game purchase and retaining the players?\n",
    "\n",
    "<b>Objectives/Exercise:</b>\n",
    "The overall objective of the project is to test the company’s CEO’s hypothesis that moving the first gate from level 30 to level 40 increases retention rate and the number of game rounds played. The CEO believes that players are churning because the first gate encountered at level 30 is too early which forces players to wait before they can proceed further in the game.\n",
    "\n",
    " In order to increase player retention rate, developers ran AB-test by moving the first gate from level 30 to level 40 for some players i.e.,\n",
    "-\tgroup A would encounter the gate at level 30, and\n",
    "-\tgroup B would encounter the gate at level 40\n"
   ]
  },
  {
   "cell_type": "markdown",
   "metadata": {
    "id": "gi9x4HR1iSZp"
   },
   "source": [
    "## Packages and setup"
   ]
  },
  {
   "cell_type": "code",
   "execution_count": 1,
   "metadata": {
    "id": "NdQrrUh3iSZq"
   },
   "outputs": [],
   "source": [
    "import numpy as np\n",
    "import pandas as pd \n",
    "import seaborn as sns\n",
    "import matplotlib.pyplot as plt\n",
    "%matplotlib inline\n",
    "plt.style.use('ggplot')\n",
    "import os\n",
    "\n",
    "from scipy.stats import shapiro\n",
    "import scipy.stats as stats\n",
    "\n",
    "import warnings\n",
    "warnings.filterwarnings(\"ignore\")\n",
    "warnings.simplefilter(action='ignore', category=FutureWarning)"
   ]
  },
  {
   "cell_type": "markdown",
   "metadata": {
    "id": "qqf_XDwZiSZq"
   },
   "source": [
    "### Reading data and initial processing"
   ]
  },
  {
   "cell_type": "code",
   "execution_count": 2,
   "metadata": {
    "id": "OE839ZtOiSZr"
   },
   "outputs": [
    {
     "name": "stdout",
     "output_type": "stream",
     "text": [
      "Data types for the data set:\n",
      "userid             int64\n",
      "version           object\n",
      "sum_gamerounds     int64\n",
      "retention_1         bool\n",
      "retention_7         bool\n",
      "dtype: object\n",
      "\n",
      "Shape of the data i.e. no. of rows and columns\n",
      "(90189, 5)\n",
      "\n",
      "First 5 rows of the raw data:\n"
     ]
    },
    {
     "data": {
      "text/html": [
       "<div>\n",
       "<style scoped>\n",
       "    .dataframe tbody tr th:only-of-type {\n",
       "        vertical-align: middle;\n",
       "    }\n",
       "\n",
       "    .dataframe tbody tr th {\n",
       "        vertical-align: top;\n",
       "    }\n",
       "\n",
       "    .dataframe thead th {\n",
       "        text-align: right;\n",
       "    }\n",
       "</style>\n",
       "<table border=\"1\" class=\"dataframe\">\n",
       "  <thead>\n",
       "    <tr style=\"text-align: right;\">\n",
       "      <th></th>\n",
       "      <th>userid</th>\n",
       "      <th>version</th>\n",
       "      <th>sum_gamerounds</th>\n",
       "      <th>retention_1</th>\n",
       "      <th>retention_7</th>\n",
       "    </tr>\n",
       "  </thead>\n",
       "  <tbody>\n",
       "    <tr>\n",
       "      <th>0</th>\n",
       "      <td>116</td>\n",
       "      <td>gate_30</td>\n",
       "      <td>3</td>\n",
       "      <td>False</td>\n",
       "      <td>False</td>\n",
       "    </tr>\n",
       "    <tr>\n",
       "      <th>1</th>\n",
       "      <td>337</td>\n",
       "      <td>gate_30</td>\n",
       "      <td>38</td>\n",
       "      <td>True</td>\n",
       "      <td>False</td>\n",
       "    </tr>\n",
       "    <tr>\n",
       "      <th>2</th>\n",
       "      <td>377</td>\n",
       "      <td>gate_40</td>\n",
       "      <td>165</td>\n",
       "      <td>True</td>\n",
       "      <td>False</td>\n",
       "    </tr>\n",
       "    <tr>\n",
       "      <th>3</th>\n",
       "      <td>483</td>\n",
       "      <td>gate_40</td>\n",
       "      <td>1</td>\n",
       "      <td>False</td>\n",
       "      <td>False</td>\n",
       "    </tr>\n",
       "    <tr>\n",
       "      <th>4</th>\n",
       "      <td>488</td>\n",
       "      <td>gate_40</td>\n",
       "      <td>179</td>\n",
       "      <td>True</td>\n",
       "      <td>True</td>\n",
       "    </tr>\n",
       "  </tbody>\n",
       "</table>\n",
       "</div>"
      ],
      "text/plain": [
       "   userid  version  sum_gamerounds  retention_1  retention_7\n",
       "0     116  gate_30               3        False        False\n",
       "1     337  gate_30              38         True        False\n",
       "2     377  gate_40             165         True        False\n",
       "3     483  gate_40               1        False        False\n",
       "4     488  gate_40             179         True         True"
      ]
     },
     "metadata": {},
     "output_type": "display_data"
    }
   ],
   "source": [
    "#Read data using pandas\n",
    "df=pd.read_csv(\"./cookie_cats.csv\")\n",
    "\n",
    "#Check data types of each column using \"dtypes\" function\n",
    "print(\"Data types for the data set:\")\n",
    "print(df.dtypes, end=\"\\n\\n\")\n",
    "\n",
    "#Check dimension of data i.e. # of rows and #column using pandas \"shape\" funtion\n",
    "print(\"Shape of the data i.e. no. of rows and columns\")\n",
    "print(df.shape, end=\"\\n\\n\")\n",
    "\n",
    "#display first 5 rows of the data using \"head\" function\n",
    "print(\"First 5 rows of the raw data:\")\n",
    "display(df.head(5))"
   ]
  },
  {
   "cell_type": "markdown",
   "metadata": {
    "id": "hMuveQlXiSZr"
   },
   "source": [
    "## Exercise"
   ]
  },
  {
   "cell_type": "markdown",
   "metadata": {
    "id": "iN8-hwHDiSZs"
   },
   "source": [
    "## Q1. Detect and resolve problems in the data (Missing value, Outliers, etc.)"
   ]
  },
  {
   "cell_type": "markdown",
   "metadata": {
    "id": "h_ZnLazliSZs"
   },
   "source": [
    "### Q1.1 Identify missing value"
   ]
  },
  {
   "cell_type": "code",
   "execution_count": 3,
   "metadata": {
    "id": "g0YE1IjfiSZs"
   },
   "outputs": [
    {
     "data": {
      "text/plain": [
       "userid            0\n",
       "version           0\n",
       "sum_gamerounds    0\n",
       "retention_1       0\n",
       "retention_7       0\n",
       "dtype: int64"
      ]
     },
     "execution_count": 3,
     "metadata": {},
     "output_type": "execute_result"
    }
   ],
   "source": [
    "df.isnull().sum()"
   ]
  },
  {
   "cell_type": "markdown",
   "metadata": {
    "id": "tMU_kjsiiSZs"
   },
   "source": [
    "### Q1.2 Identify outliers"
   ]
  },
  {
   "cell_type": "code",
   "execution_count": 4,
   "metadata": {
    "id": "IMwNE8XBiSZt"
   },
   "outputs": [
    {
     "data": {
      "text/plain": [
       "[<matplotlib.lines.Line2D at 0x21b1260cf10>]"
      ]
     },
     "execution_count": 4,
     "metadata": {},
     "output_type": "execute_result"
    },
    {
     "data": {
      "image/png": "[encoded data removed]",
      "text/plain": [
       "<Figure size 432x288 with 1 Axes>"
      ]
     },
     "metadata": {},
     "output_type": "display_data"
    }
   ],
   "source": [
    "plt.title(\"Total gamerounds played\")\n",
    "plt.xlabel(\"Index\")\n",
    "plt.ylabel(\"sum_gamerounds\")\n",
    "plt.plot(df.sum_gamerounds)"
   ]
  },
  {
   "cell_type": "code",
   "execution_count": 5,
   "metadata": {
    "id": "XOdf6IaOiSZt"
   },
   "outputs": [
    {
     "data": {
      "text/plain": [
       "57702"
      ]
     },
     "execution_count": 5,
     "metadata": {},
     "output_type": "execute_result"
    }
   ],
   "source": [
    "df[\"sum_gamerounds\"].idxmax()"
   ]
  },
  {
   "cell_type": "code",
   "execution_count": 6,
   "metadata": {},
   "outputs": [],
   "source": [
    "df=df.drop(df.index[57702])"
   ]
  },
  {
   "cell_type": "code",
   "execution_count": 7,
   "metadata": {
    "id": "7_9eQe7riSZt"
   },
   "outputs": [
    {
     "data": {
      "text/plain": [
       "[<matplotlib.lines.Line2D at 0x21b12b8dc40>]"
      ]
     },
     "execution_count": 7,
     "metadata": {},
     "output_type": "execute_result"
    },
    {
     "data": {
      "image/png": "[encoded data removed]",
      "text/plain": [
       "<Figure size 432x288 with 1 Axes>"
      ]
     },
     "metadata": {},
     "output_type": "display_data"
    }
   ],
   "source": [
    "plt.title(\"Total gamerounds played\")\n",
    "plt.xlabel(\"Index\")\n",
    "plt.ylabel(\"sum_gamerounds\")\n",
    "plt.plot(df.sum_gamerounds)"
   ]
  },
  {
   "cell_type": "markdown",
   "metadata": {
    "id": "MRUPfPr9iSZt"
   },
   "source": [
    "## Q2. Plot summary statistics and identify trends to answer basis business questions"
   ]
  },
  {
   "cell_type": "markdown",
   "metadata": {
    "id": "4-Ah9dqQiSZt"
   },
   "source": [
    "### Q2.1 What is the overall 7-day retention rate of the game?"
   ]
  },
  {
   "cell_type": "code",
   "execution_count": 8,
   "metadata": {
    "id": "hHykqZ3YiSZu"
   },
   "outputs": [
    {
     "name": "stdout",
     "output_type": "stream",
     "text": [
      "Overall 7 days retention rate of the game for both versions is:  18.60557945624695 %\n"
     ]
    }
   ],
   "source": [
    "retention_rate_7=df[\"retention_7\"].values.sum()/(df[\"userid\"].count())*100\n",
    "print(\"Overall 7 days retention rate of the game for both versions is: \" ,retention_rate_7,\"%\")"
   ]
  },
  {
   "cell_type": "markdown",
   "metadata": {
    "id": "5okbyesoiSZu"
   },
   "source": [
    "### Q2.2 How many players never played the game after installing? "
   ]
  },
  {
   "cell_type": "code",
   "execution_count": 9,
   "metadata": {
    "id": "goO-ALhkiSZu"
   },
   "outputs": [
    {
     "data": {
      "text/plain": [
       "3994"
      ]
     },
     "execution_count": 9,
     "metadata": {},
     "output_type": "execute_result"
    }
   ],
   "source": [
    "never_played = df.loc[df[\"sum_gamerounds\"]==0]\n",
    "never_played[\"userid\"].count()"
   ]
  },
  {
   "cell_type": "markdown",
   "metadata": {
    "id": "EVEICqddiSZu"
   },
   "source": [
    "### Q2.3 Does the number of users decrease as the level progresses highlighting the difficulty of the game?"
   ]
  },
  {
   "cell_type": "code",
   "execution_count": 10,
   "metadata": {
    "id": "zxwwafgFiSZu"
   },
   "outputs": [
    {
     "data": {
      "text/plain": [
       "[<matplotlib.lines.Line2D at 0x21b12c10e50>,\n",
       " <matplotlib.lines.Line2D at 0x21b12c10eb0>]"
      ]
     },
     "execution_count": 10,
     "metadata": {},
     "output_type": "execute_result"
    },
    {
     "data": {
      "image/png": "[encoded data removed]",
      "text/plain": [
       "<Figure size 432x288 with 1 Axes>"
      ]
     },
     "metadata": {},
     "output_type": "display_data"
    }
   ],
   "source": [
    "x = df.groupby(\"sum_gamerounds\").userid.count().reset_index().head(200)\n",
    "\n",
    "plt.title(\"No of Players vs No of Levels\")\n",
    "plt.xlabel(\"Number of players\")\n",
    "plt.ylabel(\"Number of levels\")\n",
    "plt.plot(x)"
   ]
  },
  {
   "cell_type": "markdown",
   "metadata": {
    "id": "DcyQYU-tiSZu"
   },
   "source": [
    "## Q3. Generate crosstab for two groups of players to understand if there is a difference in 7 days retention rate & total number of game rounds played"
   ]
  },
  {
   "cell_type": "markdown",
   "metadata": {
    "id": "2w7GpBd8iSZu"
   },
   "source": [
    "### Q3.1 Seven days retention rate summary for different game versions"
   ]
  },
  {
   "cell_type": "code",
   "execution_count": 11,
   "metadata": {
    "id": "-t8DdMxBiSZu",
    "outputId": "7400ae07-5180-4b58-fd59-9360779e8b57"
   },
   "outputs": [
    {
     "data": {
      "text/html": [
       "<div>\n",
       "<style scoped>\n",
       "    .dataframe tbody tr th:only-of-type {\n",
       "        vertical-align: middle;\n",
       "    }\n",
       "\n",
       "    .dataframe tbody tr th {\n",
       "        vertical-align: top;\n",
       "    }\n",
       "\n",
       "    .dataframe thead th {\n",
       "        text-align: right;\n",
       "    }\n",
       "</style>\n",
       "<table border=\"1\" class=\"dataframe\">\n",
       "  <thead>\n",
       "    <tr style=\"text-align: right;\">\n",
       "      <th>retention_7</th>\n",
       "      <th>False</th>\n",
       "      <th>True</th>\n",
       "    </tr>\n",
       "    <tr>\n",
       "      <th>version</th>\n",
       "      <th></th>\n",
       "      <th></th>\n",
       "    </tr>\n",
       "  </thead>\n",
       "  <tbody>\n",
       "    <tr>\n",
       "      <th>gate_30</th>\n",
       "      <td>0.809817</td>\n",
       "      <td>0.190183</td>\n",
       "    </tr>\n",
       "    <tr>\n",
       "      <th>gate_40</th>\n",
       "      <td>0.818000</td>\n",
       "      <td>0.182000</td>\n",
       "    </tr>\n",
       "  </tbody>\n",
       "</table>\n",
       "</div>"
      ],
      "text/plain": [
       "retention_7     False     True \n",
       "version                        \n",
       "gate_30      0.809817  0.190183\n",
       "gate_40      0.818000  0.182000"
      ]
     },
     "execution_count": 11,
     "metadata": {},
     "output_type": "execute_result"
    }
   ],
   "source": [
    "pd.crosstab(df.version, df.retention_7).apply(lambda r: r/r.sum(), axis=1)"
   ]
  },
  {
   "cell_type": "markdown",
   "metadata": {
    "id": "aL9bwkcpiSZv"
   },
   "source": [
    "<mark>__Analsysis Results:__\n",
    "    \n",
    "<b>The difference is vey minimun, but version gate_30 has a higher seven days retention rate than the version gate_40.</b>"
   ]
  },
  {
   "cell_type": "markdown",
   "metadata": {
    "id": "62ZIlfh1iSZv"
   },
   "source": [
    "### Q3.2 Gamerounds summary for different game versions"
   ]
  },
  {
   "cell_type": "code",
   "execution_count": 12,
   "metadata": {
    "id": "BCyf0Q5eiSZv"
   },
   "outputs": [
    {
     "data": {
      "text/html": [
       "<div>\n",
       "<style scoped>\n",
       "    .dataframe tbody tr th:only-of-type {\n",
       "        vertical-align: middle;\n",
       "    }\n",
       "\n",
       "    .dataframe tbody tr th {\n",
       "        vertical-align: top;\n",
       "    }\n",
       "\n",
       "    .dataframe thead th {\n",
       "        text-align: right;\n",
       "    }\n",
       "</style>\n",
       "<table border=\"1\" class=\"dataframe\">\n",
       "  <thead>\n",
       "    <tr style=\"text-align: right;\">\n",
       "      <th></th>\n",
       "      <th>count</th>\n",
       "      <th>mean</th>\n",
       "    </tr>\n",
       "    <tr>\n",
       "      <th>version</th>\n",
       "      <th></th>\n",
       "      <th></th>\n",
       "    </tr>\n",
       "  </thead>\n",
       "  <tbody>\n",
       "    <tr>\n",
       "      <th>gate_30</th>\n",
       "      <td>44699</td>\n",
       "      <td>51.342111</td>\n",
       "    </tr>\n",
       "    <tr>\n",
       "      <th>gate_40</th>\n",
       "      <td>45489</td>\n",
       "      <td>51.298776</td>\n",
       "    </tr>\n",
       "  </tbody>\n",
       "</table>\n",
       "</div>"
      ],
      "text/plain": [
       "         count       mean\n",
       "version                  \n",
       "gate_30  44699  51.342111\n",
       "gate_40  45489  51.298776"
      ]
     },
     "execution_count": 12,
     "metadata": {},
     "output_type": "execute_result"
    }
   ],
   "source": [
    "df.groupby(\"version\").sum_gamerounds.agg([\"count\",\"mean\"])"
   ]
  },
  {
   "cell_type": "markdown",
   "metadata": {
    "id": "DP5BIJZyiSZv"
   },
   "source": [
    "<mark>__Analsysis Results:__\n",
    "\n",
    "<b>The total number of gamerounds played in total by each player in version gate_40 is higher that of version gate_30. But on an average version gate_30 has more gamerounds played in total by each player than in version gate_40.</b>"
   ]
  },
  {
   "cell_type": "markdown",
   "metadata": {
    "id": "HdEYjtfpiSZv"
   },
   "source": [
    "## Q4. Perform two-sample test for groups A and B to test statistical significance amongst the groups in the sum of game rounds played i.e., if groups A and B are statistically different"
   ]
  },
  {
   "cell_type": "markdown",
   "metadata": {
    "id": "3ydc-t8WiSZw"
   },
   "source": [
    "### Initial data processing"
   ]
  },
  {
   "cell_type": "code",
   "execution_count": 13,
   "metadata": {
    "id": "YtgXXq93iSZw"
   },
   "outputs": [],
   "source": [
    "df[\"version\"] = np.where(df.version == \"gate_30\", \"A\", \"B\")\n",
    "group_A=pd.DataFrame(df[df.version==\"A\"]['sum_gamerounds'])\n",
    "group_B=pd.DataFrame(df[df.version==\"B\"]['sum_gamerounds'])"
   ]
  },
  {
   "cell_type": "markdown",
   "metadata": {
    "id": "zlyeTKiTiSZw"
   },
   "source": [
    "### Q4.1 Shapiro test of Normality"
   ]
  },
  {
   "cell_type": "markdown",
   "metadata": {},
   "source": [
    "<b>The Shapiro-Wilks</b> test for normality is one of three general normality tests designed to detect all departures from normality.  It is comparable in power to the other two tests.\n",
    "\n",
    "The test rejects the hypothesis of normality when the p-value is less than or equal to 0.05.  Failing the normality test allows you to state with 95% confidence the data does not fit the normal distribution.  Passing the normality test only allows you to state no significant departure from normality was found.\n",
    "\n",
    "<b>The Shapiro-Wilks</b> test is not as affected by ties as the <b>Anderson-Darling test</b>, but is still affected.  <b>The Skewness-Kurtosis All test</b> is not affected by ties and thus the default test.     "
   ]
  },
  {
   "cell_type": "code",
   "execution_count": 14,
   "metadata": {
    "id": "tXsSQmHdiSZw"
   },
   "outputs": [],
   "source": [
    "#---------------------- Shapiro Test ----------------------\n",
    "# NULL Hypothesis H0: Distribution is normal\n",
    "# ALTERNATE Hypothesis H1: Distribution is not normal    \n",
    "\n",
    "#test for group_A\n",
    "normality_A = shapiro(group_A)[1] < 0.05\n",
    "\n",
    "#test for group_B\n",
    "normality_B = shapiro(group_B)[1] < 0.05"
   ]
  },
  {
   "cell_type": "code",
   "execution_count": 15,
   "metadata": {},
   "outputs": [
    {
     "name": "stdout",
     "output_type": "stream",
     "text": [
      "True\n"
     ]
    }
   ],
   "source": [
    "print(normality_A)"
   ]
  },
  {
   "cell_type": "code",
   "execution_count": 16,
   "metadata": {},
   "outputs": [
    {
     "name": "stdout",
     "output_type": "stream",
     "text": [
      "True\n"
     ]
    }
   ],
   "source": [
    "print(normality_B)"
   ]
  },
  {
   "cell_type": "markdown",
   "metadata": {
    "id": "AOQIRsuAiSZw"
   },
   "source": [
    "<mark>__Analsysis Results:__\n",
    "    \n",
    "<b>We can observe that Shapiro Test of Normality for both group A and group B returns \"True\", i.e., their p-values are less than 0.05\n",
    "Hence, NULL Hypothesis H0 is False for both groups and ALTERNATE Hypothesis H1 is True for both groups.</b>"
   ]
  },
  {
   "cell_type": "markdown",
   "metadata": {
    "id": "q4o9AOd7iSZx"
   },
   "source": [
    "### Q4.2 Test of homegienity of variance"
   ]
  },
  {
   "cell_type": "markdown",
   "metadata": {},
   "source": [
    "<b>Levene's test</b> is an inferential statistic used to assess the equality of variances for a variable calculated for two or more groups.  It tests the null hypothesis that the population variances are equal (called homogeneity of variance or homoscedasticity). If the resulting p-value of Levene's test is less than some significance level (typically 0.05), the obtained differences in sample variances are unlikely to have occurred based on random sampling from a population with equal variances. \n",
    "\n",
    "Thus, the null hypothesis of equal variances is rejected and it is concluded that there is a difference between the variances in the population."
   ]
  },
  {
   "cell_type": "code",
   "execution_count": 17,
   "metadata": {
    "id": "mrziVdBNiSZx"
   },
   "outputs": [],
   "source": [
    "#---------------------- Levene's Test ----------------------\n",
    "# NULL Hypothesis H0: Two groups have equal variances\n",
    "# ALTERNATE Hypothesis H1: Two groups do not have equal variances\n",
    "\n",
    "#perform levene's test and accept or reject the null hypothesis based on the results\n",
    "levene_test = stats.levene(list(group_A[\"sum_gamerounds\"]),list(group_B[\"sum_gamerounds\"]))[1] < 0.05"
   ]
  },
  {
   "cell_type": "code",
   "execution_count": 18,
   "metadata": {},
   "outputs": [
    {
     "name": "stdout",
     "output_type": "stream",
     "text": [
      "False\n"
     ]
    }
   ],
   "source": [
    "print(levene_test)"
   ]
  },
  {
   "cell_type": "markdown",
   "metadata": {
    "id": "LwTNd1VPiSZx"
   },
   "source": [
    "<mark>__Analsysis Results:__\n",
    "    \n",
    "<b>We can observe that Levene's Test for Variance of group A and group B returns \"False\",i.e., p-value is more than 0.05\n",
    "Hence, both groups have equal variance. Thus,  NULL Hypothesis H0 is True and  ALTERNATE Hypothesis H1 is False.</b>"
   ]
  },
  {
   "cell_type": "markdown",
   "metadata": {
    "id": "uWPsJfKPiSZy"
   },
   "source": [
    "### Q4.3 Test of significance: Two sample test"
   ]
  },
  {
   "cell_type": "markdown",
   "metadata": {},
   "source": [
    "<b>Mann–Whitney U test</b> (also called the <b>Mann–Whitney–Wilcoxon (MWW)</b>) is a nonparametric test of the null hypothesis that, for randomly selected values X and Y from two populations, the probability of X being greater than Y is equal to the probability of Y being greater than X."
   ]
  },
  {
   "cell_type": "code",
   "execution_count": 19,
   "metadata": {
    "id": "l7nqj4X5iSZz"
   },
   "outputs": [],
   "source": [
    "#---------------------- Two samples test ----------------------\n",
    "# NULL Hypothesis H0: Two samples are equal\n",
    "# ALTERNATE Hypothesis H1: Two samples are different\n",
    "\n",
    "#Apply relevant two sample test to accept or reject the NULL hypothesis\n",
    "whitney_test = stats.mannwhitneyu(list(group_A[\"sum_gamerounds\"]),list(group_B[\"sum_gamerounds\"]))[1] < 0.05"
   ]
  },
  {
   "cell_type": "code",
   "execution_count": 20,
   "metadata": {},
   "outputs": [
    {
     "name": "stdout",
     "output_type": "stream",
     "text": [
      "True\n"
     ]
    }
   ],
   "source": [
    "print(whitney_test)"
   ]
  },
  {
   "cell_type": "markdown",
   "metadata": {
    "id": "kE7uFYGSiSZz"
   },
   "source": [
    "<mark>__Analsysis Results:__\n",
    "    \n",
    "<b>We can observe that Mann-Whitney U Test of group A and group B returns \"True\",i.e., p-value is less than 0.05\n",
    "Hence, both groups are not equal. Thus, NULL Hypothesis H0 is False and ALTERNATE Hypothesis H1 is True.</b>"
   ]
  },
  {
   "cell_type": "markdown",
   "metadata": {
    "id": "AJRShYQFiSZz"
   },
   "source": [
    "## Q5. Based on significance testing results, if groups A and B are statistically different, which level has more advantage in terms of player retention and number of game rounds played"
   ]
  },
  {
   "cell_type": "code",
   "execution_count": 21,
   "metadata": {
    "id": "1d_q6KSxiSZz"
   },
   "outputs": [],
   "source": [
    "df_retention = df.groupby(\"version\").agg({\"userid\":\"count\", \"retention_1\":\"mean\",\"retention_7\":\"mean\", \"sum_gamerounds\":\"sum\"})"
   ]
  },
  {
   "cell_type": "code",
   "execution_count": 22,
   "metadata": {},
   "outputs": [
    {
     "data": {
      "text/html": [
       "<div>\n",
       "<style scoped>\n",
       "    .dataframe tbody tr th:only-of-type {\n",
       "        vertical-align: middle;\n",
       "    }\n",
       "\n",
       "    .dataframe tbody tr th {\n",
       "        vertical-align: top;\n",
       "    }\n",
       "\n",
       "    .dataframe thead th {\n",
       "        text-align: right;\n",
       "    }\n",
       "</style>\n",
       "<table border=\"1\" class=\"dataframe\">\n",
       "  <thead>\n",
       "    <tr style=\"text-align: right;\">\n",
       "      <th></th>\n",
       "      <th>userid</th>\n",
       "      <th>retention_1</th>\n",
       "      <th>retention_7</th>\n",
       "      <th>sum_gamerounds</th>\n",
       "    </tr>\n",
       "    <tr>\n",
       "      <th>version</th>\n",
       "      <th></th>\n",
       "      <th></th>\n",
       "      <th></th>\n",
       "      <th></th>\n",
       "    </tr>\n",
       "  </thead>\n",
       "  <tbody>\n",
       "    <tr>\n",
       "      <th>A</th>\n",
       "      <td>44699</td>\n",
       "      <td>0.448198</td>\n",
       "      <td>0.190183</td>\n",
       "      <td>2294941</td>\n",
       "    </tr>\n",
       "    <tr>\n",
       "      <th>B</th>\n",
       "      <td>45489</td>\n",
       "      <td>0.442283</td>\n",
       "      <td>0.182000</td>\n",
       "      <td>2333530</td>\n",
       "    </tr>\n",
       "  </tbody>\n",
       "</table>\n",
       "</div>"
      ],
      "text/plain": [
       "         userid  retention_1  retention_7  sum_gamerounds\n",
       "version                                                  \n",
       "A         44699     0.448198     0.190183         2294941\n",
       "B         45489     0.442283     0.182000         2333530"
      ]
     },
     "metadata": {},
     "output_type": "display_data"
    }
   ],
   "source": [
    "display(df_retention)"
   ]
  },
  {
   "cell_type": "markdown",
   "metadata": {
    "id": "eNFy8DxGiSZz"
   },
   "source": [
    "<mark>__Analsysis Results:__\n",
    "    \n",
    "<b>We can observe that group A's retention rate in both day 1 and day 7 are better than group 7. Hence, the company should not change the gate from level 30 to level 40.</b>"
   ]
  }
 ],
 "metadata": {
  "colab": {
   "collapsed_sections": [],
   "name": "Project 7 Starter Code.ipynb",
   "provenance": []
  },
  "kernelspec": {
   "display_name": "Python 3",
   "language": "python",
   "name": "python3"
  },
  "language_info": {
   "codemirror_mode": {
    "name": "ipython",
    "version": 3
   },
   "file_extension": ".py",
   "mimetype": "text/x-python",
   "name": "python",
   "nbconvert_exporter": "python",
   "pygments_lexer": "ipython3",
   "version": "3.9.4"
  }
 },
 "nbformat": 4,
 "nbformat_minor": 4
}
